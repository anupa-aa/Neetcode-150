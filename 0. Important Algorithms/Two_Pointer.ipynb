{
 "cells": [
  {
   "attachments": {},
   "cell_type": "markdown",
   "metadata": {},
   "source": [
    "# Two Pointer Method\n",
    "\n",
    "A very common algorithm that is a more efficient alternative to iterating through the whole set of elements for each element in an array"
   ]
  },
  {
   "attachments": {},
   "cell_type": "markdown",
   "metadata": {},
   "source": [
    "### 1. Two Sum Problem\n",
    "\n",
    "Given a sorted array, we want to find the array elements that add up to the target."
   ]
  },
  {
   "cell_type": "code",
   "execution_count": 10,
   "metadata": {},
   "outputs": [],
   "source": [
    "def two_sum(arr, target):\n",
    "    # Array is already sorted\n",
    "\n",
    "    pointer_one = 0\n",
    "    pointer_two = len(arr) - 1 # As this is the last element\n",
    "\n",
    "    while pointer_one < pointer_two:\n",
    "\n",
    "        sum = arr[pointer_one] + arr[pointer_two]\n",
    "\n",
    "        if sum == target:\n",
    "            return (pointer_one, pointer_two)\n",
    "        \n",
    "        elif sum < target:\n",
    "            # pointer 2 points to the largest and pointer 1 points to smallest, so we need to \n",
    "            # keep pointer two to where it is and move pointer 1 inwards\n",
    "            pointer_one += 1\n",
    "        \n",
    "        elif sum > target:\n",
    "            # pointer we need to move pointer 2 inwards\n",
    "            pointer_two -= 1\n",
    "\n",
    "    # This point in the program reached when the target cannot be achieved with the given array\n",
    "    return (-1, -1)"
   ]
  },
  {
   "cell_type": "code",
   "execution_count": 12,
   "metadata": {},
   "outputs": [
    {
     "data": {
      "text/plain": [
       "(2, 8)"
      ]
     },
     "execution_count": 12,
     "metadata": {},
     "output_type": "execute_result"
    }
   ],
   "source": [
    "two_sum([1,2,3,4,5,6,7,7,9,15], 12)"
   ]
  },
  {
   "cell_type": "code",
   "execution_count": null,
   "metadata": {},
   "outputs": [],
   "source": []
  }
 ],
 "metadata": {
  "kernelspec": {
   "display_name": "DL_VENV",
   "language": "python",
   "name": "dl_venv"
  },
  "language_info": {
   "codemirror_mode": {
    "name": "ipython",
    "version": 3
   },
   "file_extension": ".py",
   "mimetype": "text/x-python",
   "name": "python",
   "nbconvert_exporter": "python",
   "pygments_lexer": "ipython3",
   "version": "3.10.6"
  },
  "orig_nbformat": 4
 },
 "nbformat": 4,
 "nbformat_minor": 2
}
