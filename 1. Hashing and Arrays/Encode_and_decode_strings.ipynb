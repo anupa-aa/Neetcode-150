{
 "cells": [
  {
   "attachments": {},
   "cell_type": "markdown",
   "metadata": {},
   "source": [
    "# Encode and decode strings\n",
    "\n",
    "Task : Write a function that takes an array of string input and \"encodes\" it to a single string. Then write a function that decodes the single string input into the original array.\n",
    "\n",
    "This seems simple but we are told that the strings in the array can consist of any characters not restricted to a-z, for example, it could have numbers and other characters that you might want to use as delimiters.\n",
    "\n",
    "Example \n",
    "\n",
    "        encode([\"hello[]\", \"/3t3here0\" , \"@fr:iend\"]) -> some_string\n",
    "        decode(some_string) -> [\"hello[]\", \"/3t3here0\" , \"@fr:iend\"]"
   ]
  },
  {
   "cell_type": "code",
   "execution_count": 9,
   "metadata": {},
   "outputs": [],
   "source": [
    "global delimiter\n",
    "delimiter = \"@\"\n",
    "\n",
    "\n",
    "def encode(arr : list[str]) -> str:\n",
    "    string = \"\"\n",
    "    for word in arr:\n",
    "        string += str(len(word))\n",
    "        string += delimiter\n",
    "        string += word\n",
    "    return string\n",
    "\n",
    "def decode(string : str) -> list[str]:\n",
    "    arr = []\n",
    "    #for i in range(len(string)):\n",
    "\n",
    "    i = 0\n",
    "    while i < len(string):\n",
    "\n",
    "        try:\n",
    "            word_length = int(string[i])\n",
    "        except:\n",
    "            i += 1\n",
    "            continue\n",
    "\n",
    "        # 5@hello with i being word length, delimiter being i+1, word starts i+2, word ends i+6\n",
    "        if string[i + 1] == delimiter:\n",
    "            arr.append(string[i+2:i+2+word_length])\n",
    "            i = i + 2 + word_length\n",
    "        else:\n",
    "            i += 1\n",
    "            continue\n",
    "\n",
    "    return arr\n"
   ]
  },
  {
   "cell_type": "code",
   "execution_count": 14,
   "metadata": {},
   "outputs": [
    {
     "name": "stdout",
     "output_type": "stream",
     "text": [
      "7@hello[]9@/3t3here09@@5fr:iend\n",
      "['hello[]', '/3t3here0', '@5fr:iend']\n"
     ]
    }
   ],
   "source": [
    "print(encode([\"hello[]\", \"/3t3here0\" , \"@5fr:iend\"]))\n",
    "print(decode(encode(([\"hello[]\", \"/3t3here0\", \"@5fr:iend\"]))))\n"
   ]
  },
  {
   "cell_type": "code",
   "execution_count": null,
   "metadata": {},
   "outputs": [],
   "source": []
  }
 ],
 "metadata": {
  "kernelspec": {
   "display_name": "DL_VENV",
   "language": "python",
   "name": "dl_venv"
  },
  "language_info": {
   "codemirror_mode": {
    "name": "ipython",
    "version": 3
   },
   "file_extension": ".py",
   "mimetype": "text/x-python",
   "name": "python",
   "nbconvert_exporter": "python",
   "pygments_lexer": "ipython3",
   "version": "3.10.6"
  },
  "orig_nbformat": 4
 },
 "nbformat": 4,
 "nbformat_minor": 2
}
