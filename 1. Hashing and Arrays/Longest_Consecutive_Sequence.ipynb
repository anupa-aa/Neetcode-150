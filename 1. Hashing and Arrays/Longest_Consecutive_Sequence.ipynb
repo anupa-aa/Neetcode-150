{
 "cells": [
  {
   "attachments": {},
   "cell_type": "markdown",
   "metadata": {},
   "source": [
    "# Longest Consecutive Sequence\n",
    "\n",
    "Given an unsorted array of integers nums, return the length of the longest consecutive elements sequence.\n",
    "\n",
    "You must write an algorithm that runs in O(n) time.\n",
    "\n",
    " \n",
    "\n",
    "Example 1:\n",
    "\n",
    "Input: nums = [100,4,200,1,3,2]\n",
    "Output: 4\n",
    "Explanation: The longest consecutive elements sequence is [1, 2, 3, 4]. Therefore its length is 4.\n",
    "\n",
    "Example 2:\n",
    "\n",
    "Input: nums = [0,3,7,2,5,8,4,6,0,1]\n",
    "Output: 9\n"
   ]
  },
  {
   "attachments": {},
   "cell_type": "markdown",
   "metadata": {},
   "source": [
    "### Method\n",
    "\n",
    "- We will traverse the nums array linearly and for each item we will check if item - 1 or item + 1 is in the array.\n",
    "- We will keep track of the longest chain of consecutive numbers\n",
    "- Initially, this may seem over O(n) complexity : linear traverse is n complexity and for each index we make 2 searches (using binary search as the most efficient this will make each search O(logn) complexity and therefore the combined complexity will be bigTheta(2nlogn).\n",
    "- *HOWEVER,* we can make search require a time complexity of O(n) by converting the nums into a set. This operation will cause an overhead of creating the set (which is O(n) complexity) but each search will be of O(1) complexity since a set uses hashing."
   ]
  },
  {
   "cell_type": "code",
   "execution_count": 9,
   "metadata": {},
   "outputs": [],
   "source": [
    "def longestConsecutive(nums : list[int]) -> int:\n",
    "    nums = set(nums)\n",
    "    longest_chain_length = 0\n",
    "    for num in nums:\n",
    "        chain_length = 1\n",
    "\n",
    "        offset = 1\n",
    "        while (num - offset) in nums:\n",
    "            chain_length += 1\n",
    "            offset += 1\n",
    "        offset = 1\n",
    "        while (num + offset) in nums:\n",
    "            chain_length += 1\n",
    "            offset += 1\n",
    "\n",
    "        if longest_chain_length < chain_length:\n",
    "            longest_chain_length = chain_length\n",
    "\n",
    "        # A small optimization\n",
    "        # (I think if the longest current chain is greater than half the length of the set, then whatever numbers remain\n",
    "        # cannot make a different chain that is longer that that)\n",
    "        if longest_chain_length >= len(nums) //2:\n",
    "            return longest_chain_length\n",
    "\n",
    "    return longest_chain_length\n",
    "\n"
   ]
  },
  {
   "cell_type": "code",
   "execution_count": 10,
   "metadata": {},
   "outputs": [
    {
     "data": {
      "text/plain": [
       "9"
      ]
     },
     "execution_count": 10,
     "metadata": {},
     "output_type": "execute_result"
    }
   ],
   "source": [
    "longestConsecutive([0,3,7,2,5,8,4,6,0,1])"
   ]
  },
  {
   "attachments": {},
   "cell_type": "markdown",
   "metadata": {},
   "source": [
    "### A better approach?"
   ]
  },
  {
   "cell_type": "code",
   "execution_count": 13,
   "metadata": {},
   "outputs": [],
   "source": [
    "class Solution:\n",
    "    def longestConsecutive(nums: list[int]) -> int:\n",
    "        nums = set(nums)\n",
    "        longest_chain_length = 0\n",
    "        for num in nums:\n",
    "            \n",
    "            if num-1 not in nums:\n",
    "                next_num = num+1\n",
    "                while next_num in nums:\n",
    "                    next_num += 1\n",
    "\n",
    "                longest_chain_length = max(longest_chain_length, next_num-num)\n",
    "        return longest_chain_length\n"
   ]
  },
  {
   "attachments": {},
   "cell_type": "markdown",
   "metadata": {},
   "source": [
    "### A recursive approach\n",
    "\n",
    "Note : Just because there is a recursive solution doesn't mean its better! In this case, on running the benchmarks on leetcode, my iterative solution (the first method) has an average run time of 450ms whilst the recursive solution had a runtime of 680ms (though this may be due to many factors unrelated to the code) and it was a lot less memory efficient"
   ]
  },
  {
   "cell_type": "code",
   "execution_count": 14,
   "metadata": {},
   "outputs": [],
   "source": [
    "def longestConsecutive(nums):\n",
    "    # Convert the input list to a set for faster lookup\n",
    "    num_set = set(nums)\n",
    "\n",
    "    def longestConsecutiveRecursive(num, length):\n",
    "        # Base case: If the current number is not in the set, return the length\n",
    "        if num not in num_set:\n",
    "            return length\n",
    "\n",
    "        # Include the current number and explore its neighbors\n",
    "        num_set.remove(num)\n",
    "\n",
    "        left_length = longestConsecutiveRecursive(num - 1, length + 1)\n",
    "        right_length = longestConsecutiveRecursive(num + 1, length + 1)\n",
    "\n",
    "        # Return the maximum length between the left and right branches\n",
    "        return max(left_length, right_length)\n",
    "\n",
    "    max_length = 0\n",
    "\n",
    "    # Iterate over each number in the input list\n",
    "    for num in nums:\n",
    "        # Only start a sequence if the current number is the smallest one in the sequence\n",
    "        if num - 1 not in num_set:\n",
    "            length = longestConsecutiveRecursive(num, 0)\n",
    "            max_length = max(max_length, length)\n",
    "\n",
    "    return max_length\n"
   ]
  },
  {
   "cell_type": "code",
   "execution_count": null,
   "metadata": {},
   "outputs": [],
   "source": []
  }
 ],
 "metadata": {
  "kernelspec": {
   "display_name": "DL_VENV",
   "language": "python",
   "name": "dl_venv"
  },
  "language_info": {
   "codemirror_mode": {
    "name": "ipython",
    "version": 3
   },
   "file_extension": ".py",
   "mimetype": "text/x-python",
   "name": "python",
   "nbconvert_exporter": "python",
   "pygments_lexer": "ipython3",
   "version": "3.10.6"
  },
  "orig_nbformat": 4
 },
 "nbformat": 4,
 "nbformat_minor": 2
}
