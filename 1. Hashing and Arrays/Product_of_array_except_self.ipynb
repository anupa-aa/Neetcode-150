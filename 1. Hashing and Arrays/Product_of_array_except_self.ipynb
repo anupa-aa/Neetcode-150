{
 "cells": [
  {
   "attachments": {},
   "cell_type": "markdown",
   "metadata": {},
   "source": [
    "# Product of array except self\n",
    "\n",
    "Given an integer array nums, return an array answer such that answer[i] is equal to the product of all the elements of nums except nums[i].\n",
    "\n",
    "The product of any prefix or suffix of nums is guaranteed to fit in a 32-bit integer.\n",
    "\n",
    "You must write an algorithm that runs in O(n) time and without using the division operation."
   ]
  },
  {
   "attachments": {},
   "cell_type": "markdown",
   "metadata": {},
   "source": [
    "### Method\n",
    "\n",
    "The way to approach this is to realise that if we were to iterate through every element and calculate the product of the rest of the elements in the same iteration would result in a complexity of O(n^2). Therefore we can only calculate a set of products a fixed number of times to ensure O(n) complexity.\n",
    "\n",
    "To do this, we will calculate the products as we go through the input list and store the cumilative product of the input in the corresponding index of a new array, for example for input [2,4,6,8] we will generate a list [1,2,8,48,336].\n",
    "\n",
    "We will then do the same thing from right to left , for example the same input we will generate [336,168,42,7,1].\n",
    "\n",
    "Finally we create our answer array and for each index i we multiply the value in the cumilative product array at index i-1 and the value in the reverse cumilative product array at index i+1"
   ]
  },
  {
   "cell_type": "code",
   "execution_count": 5,
   "metadata": {},
   "outputs": [],
   "source": [
    "def productExceptSelf(nums : list[int]) -> list[int]:\n",
    "\n",
    "    left_product = [1] * (len(nums)+1)\n",
    "    right_product = [1] * (len(nums)+1)\n",
    "    result = [1] * len(nums)\n",
    "\n",
    "    for i in range(len(nums)):\n",
    "        left_product[i+1] = left_product[i] * nums[i]\n",
    "        right_product[-i-1-1] = right_product[-i-1] * nums[-i-1]\n",
    "    \n",
    "    for i in range(len(nums)):\n",
    "        result[i] = left_product[i] * right_product[i+1]\n",
    "\n",
    "    return result\n"
   ]
  },
  {
   "cell_type": "code",
   "execution_count": 6,
   "metadata": {},
   "outputs": [
    {
     "data": {
      "text/plain": [
       "[168, 84, 56, 48]"
      ]
     },
     "execution_count": 6,
     "metadata": {},
     "output_type": "execute_result"
    }
   ],
   "source": [
    "productExceptSelf([2,4,6,7])"
   ]
  },
  {
   "cell_type": "code",
   "execution_count": null,
   "metadata": {},
   "outputs": [],
   "source": []
  }
 ],
 "metadata": {
  "kernelspec": {
   "display_name": "DL_VENV",
   "language": "python",
   "name": "dl_venv"
  },
  "language_info": {
   "codemirror_mode": {
    "name": "ipython",
    "version": 3
   },
   "file_extension": ".py",
   "mimetype": "text/x-python",
   "name": "python",
   "nbconvert_exporter": "python",
   "pygments_lexer": "ipython3",
   "version": "3.10.6"
  },
  "orig_nbformat": 4
 },
 "nbformat": 4,
 "nbformat_minor": 2
}
