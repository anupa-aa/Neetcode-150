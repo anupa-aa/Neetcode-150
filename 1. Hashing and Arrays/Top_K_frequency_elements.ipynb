{
 "cells": [
  {
   "attachments": {},
   "cell_type": "markdown",
   "metadata": {},
   "source": [
    "# Top K frequency Elements\n",
    "\n",
    "Given an integer array nums and an integer k, return the k most frequent elements. You may return the answer in any order.\n",
    "\n",
    " \n",
    "\n",
    "Example 1:\n",
    "\n",
    "Input: nums = [1,1,1,2,2,3], k = 2\n",
    "Output: [1,2]\n",
    "\n",
    "Example 2:\n",
    "\n",
    "Input: nums = [1], k = 1\n",
    "Output: [1]\n"
   ]
  },
  {
   "cell_type": "code",
   "execution_count": 34,
   "metadata": {},
   "outputs": [],
   "source": [
    "def topKFrequent(nums : list[int], k : int) -> list[int]:\n",
    "    unique_nums : dict = {} # In form { unqique_number_N : number_of_times_in_list }\n",
    "\n",
    "    for num in nums:\n",
    "        if num in unique_nums:\n",
    "            unique_nums[num] += 1\n",
    "        else:\n",
    "            unique_nums[num] = 1\n",
    "\n",
    "    count_and_index = [[count, index] for index, count in enumerate(unique_nums.values())]\n",
    "\n",
    "    top_k = sorted(count_and_index)[-k:]\n",
    "\n",
    "    top_k_indicies = [pair[1] for pair in top_k]\n",
    "\n",
    "    keys = tuple(unique_nums.keys())\n",
    "\n",
    "    return [keys[index] for index in top_k_indicies]\n",
    "\n",
    "    \n",
    "\n",
    "    \n",
    "\n",
    "    \n",
    "\n",
    "    "
   ]
  },
  {
   "cell_type": "code",
   "execution_count": 35,
   "metadata": {},
   "outputs": [
    {
     "data": {
      "text/plain": [
       "[1, 2]"
      ]
     },
     "execution_count": 35,
     "metadata": {},
     "output_type": "execute_result"
    }
   ],
   "source": [
    "topKFrequent([1,2],2)"
   ]
  },
  {
   "attachments": {},
   "cell_type": "markdown",
   "metadata": {},
   "source": [
    "### A Better Approach"
   ]
  },
  {
   "cell_type": "code",
   "execution_count": 32,
   "metadata": {},
   "outputs": [],
   "source": [
    "def topKFrequent(nums: list[int], k: int) -> list[int]:\n",
    "    d = {}\n",
    "    for i in nums:\n",
    "        if i not in d:\n",
    "            d[i] = 1\n",
    "        else:\n",
    "            d[i] += 1\n",
    "\n",
    "    sorted_dict = sorted(d.items(), key=lambda x: x[1], reverse=True)\n",
    "\n",
    "    top_k = dict(sorted_dict[:k])\n",
    "\n",
    "    return top_k\n"
   ]
  },
  {
   "attachments": {},
   "cell_type": "markdown",
   "metadata": {},
   "source": [
    "### Using Heap alternative"
   ]
  },
  {
   "cell_type": "code",
   "execution_count": 30,
   "metadata": {},
   "outputs": [],
   "source": [
    "import heapq\n",
    "\n",
    "\n",
    "def topKFrequent(nums: list[int], k: int) -> list[int]:\n",
    "    counts = dict()\n",
    "\n",
    "    for num in nums:\n",
    "        if num in counts:\n",
    "            counts[num] += 1\n",
    "        else:\n",
    "            counts[num] = 1\n",
    "\n",
    "    heap = []\n",
    "\n",
    "    for num, count in counts.items():\n",
    "        heapq.heappush(heap, (-count, num))\n",
    "\n",
    "    ans = []\n",
    "    while k:\n",
    "        num_count = heapq.heappop(heap)\n",
    "        ans.append(num_count[1])\n",
    "        k -= 1\n",
    "\n",
    "    return ans\n"
   ]
  },
  {
   "attachments": {},
   "cell_type": "markdown",
   "metadata": {},
   "source": []
  },
  {
   "attachments": {},
   "cell_type": "markdown",
   "metadata": {},
   "source": []
  }
 ],
 "metadata": {
  "kernelspec": {
   "display_name": "DL_VENV",
   "language": "python",
   "name": "dl_venv"
  },
  "language_info": {
   "codemirror_mode": {
    "name": "ipython",
    "version": 3
   },
   "file_extension": ".py",
   "mimetype": "text/x-python",
   "name": "python",
   "nbconvert_exporter": "python",
   "pygments_lexer": "ipython3",
   "version": "3.10.6"
  },
  "orig_nbformat": 4
 },
 "nbformat": 4,
 "nbformat_minor": 2
}
