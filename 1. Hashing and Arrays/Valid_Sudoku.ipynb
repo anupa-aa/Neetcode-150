{
 "cells": [
  {
   "attachments": {},
   "cell_type": "markdown",
   "metadata": {},
   "source": [
    "# Valid Sudoku\n",
    "\n",
    "Determine if a 9 x 9 Sudoku board is valid. Only the filled cells need to be validated according to the following rules:\n",
    "\n",
    "    Each row must contain the digits 1-9 without repetition.\n",
    "    Each column must contain the digits 1-9 without repetition.\n",
    "    Each of the nine 3 x 3 sub-boxes of the grid must contain the digits 1-9 without repetition.\n",
    "\n",
    "Note:\n",
    "\n",
    "    A Sudoku board (partially filled) could be valid but is not necessarily solvable.\n",
    "    Only the filled cells need to be validated according to the mentioned rules.\n",
    "\n",
    "Input: board = \n",
    "[[\"5\",\"3\",\".\",\".\",\"7\",\".\",\".\",\".\",\".\"]\n",
    ",[\"6\",\".\",\".\",\"1\",\"9\",\"5\",\".\",\".\",\".\"]\n",
    ",[\".\",\"9\",\"8\",\".\",\".\",\".\",\".\",\"6\",\".\"]\n",
    ",[\"8\",\".\",\".\",\".\",\"6\",\".\",\".\",\".\",\"3\"]\n",
    ",[\"4\",\".\",\".\",\"8\",\".\",\"3\",\".\",\".\",\"1\"]\n",
    ",[\"7\",\".\",\".\",\".\",\"2\",\".\",\".\",\".\",\"6\"]\n",
    ",[\".\",\"6\",\".\",\".\",\".\",\".\",\"2\",\"8\",\".\"]\n",
    ",[\".\",\".\",\".\",\"4\",\"1\",\"9\",\".\",\".\",\"5\"]\n",
    ",[\".\",\".\",\".\",\".\",\"8\",\".\",\".\",\"7\",\"9\"]]\n",
    "Output: true\n",
    "\n",
    "Input: board = \n",
    "[[\"8\",\"3\",\".\",\".\",\"7\",\".\",\".\",\".\",\".\"]\n",
    ",[\"6\",\".\",\".\",\"1\",\"9\",\"5\",\".\",\".\",\".\"]\n",
    ",[\".\",\"9\",\"8\",\".\",\".\",\".\",\".\",\"6\",\".\"]\n",
    ",[\"8\",\".\",\".\",\".\",\"6\",\".\",\".\",\".\",\"3\"]\n",
    ",[\"4\",\".\",\".\",\"8\",\".\",\"3\",\".\",\".\",\"1\"]\n",
    ",[\"7\",\".\",\".\",\".\",\"2\",\".\",\".\",\".\",\"6\"]\n",
    ",[\".\",\"6\",\".\",\".\",\".\",\".\",\"2\",\"8\",\".\"]\n",
    ",[\".\",\".\",\".\",\"4\",\"1\",\"9\",\".\",\".\",\"5\"]\n",
    ",[\".\",\".\",\".\",\".\",\"8\",\".\",\".\",\"7\",\"9\"]]\n",
    "Output: false\n",
    "Explanation: Same as Example 1, except with the 5 in the top left corner being modified to 8. Since there are two 8's in the top left 3x3 sub-box, it is invalid."
   ]
  },
  {
   "attachments": {},
   "cell_type": "markdown",
   "metadata": {},
   "source": [
    "### Method\n",
    "\n",
    "Use the definition of the sudoku rules to check if the board is valid\n",
    "- Check the rows to see if they have unique numbers 1-9\n",
    "- Check the columns to see if they have unique numbers 1-9\n",
    "- Check each subsquare to see if they have unique numbers 1-9\n"
   ]
  },
  {
   "cell_type": "code",
   "execution_count": 1,
   "metadata": {},
   "outputs": [],
   "source": [
    "def isValidSudoku(board: list[list[str]]) -> bool:\n",
    "\n",
    "    for row in board:\n",
    "        used_nums = set()\n",
    "        for num in row:\n",
    "            if num == \".\":\n",
    "                continue\n",
    "            else:\n",
    "                if num in used_nums:\n",
    "                    print(f\"Problem in row {row}\")\n",
    "                    return False\n",
    "                else:\n",
    "                    used_nums.add(num)\n",
    "\n",
    "    for col in tuple(zip(*board)):\n",
    "        used_nums = set()\n",
    "        for num in col:\n",
    "            if num == \".\":\n",
    "                continue\n",
    "            else:\n",
    "                if num in used_nums:\n",
    "                    print(f\"Problem in column {col}\")\n",
    "                    return False\n",
    "                else:\n",
    "                    used_nums.add(num)\n",
    "\n",
    "    for i in range(len(board)//3):\n",
    "        # i -> 0,1,2\n",
    "        for j in range(len(board)//3):\n",
    "            # j -> 0,1,2\n",
    "            used_nums = set()\n",
    "            for col in range(j*3, j*3 + 3):\n",
    "                for row in range(i*3, i*3 + 3):\n",
    "                    # print(row, col)\n",
    "                    if board[row][col] == \".\":\n",
    "                        continue\n",
    "                    else:\n",
    "                        if board[row][col] in used_nums:\n",
    "                            print(f\"Problem in block {i} {j}\")\n",
    "                            return False\n",
    "                        else:\n",
    "                            used_nums.add(board[row][col])\n",
    "\n",
    "            # print(\"next grid\")\n",
    "\n",
    "    return True\n"
   ]
  },
  {
   "cell_type": "code",
   "execution_count": 5,
   "metadata": {},
   "outputs": [
    {
     "name": "stdout",
     "output_type": "stream",
     "text": [
      "Problem in column ('8', '6', '.', '8', '4', '7', '.', '.', '.')\n"
     ]
    },
    {
     "data": {
      "text/plain": [
       "False"
      ]
     },
     "execution_count": 5,
     "metadata": {},
     "output_type": "execute_result"
    }
   ],
   "source": [
    "isValidSudoku([\n",
    " [\"8\",\"3\",\".\",\".\",\"7\",\".\",\".\",\".\",\".\"]\n",
    ",[\"6\",\".\",\".\",\"1\",\"9\",\"5\",\".\",\".\",\".\"]\n",
    ",[\".\",\"9\",\"8\",\".\",\".\",\".\",\".\",\"6\",\".\"]\n",
    ",[\"8\",\".\",\".\",\".\",\"6\",\".\",\".\",\".\",\"3\"]\n",
    ",[\"4\",\".\",\".\",\"8\",\".\",\"3\",\".\",\".\",\"1\"]\n",
    ",[\"7\",\".\",\".\",\".\",\"2\",\".\",\".\",\".\",\"6\"]\n",
    ",[\".\",\"6\",\".\",\".\",\".\",\".\",\"2\",\"8\",\".\"]\n",
    ",[\".\",\".\",\".\",\"4\",\"1\",\"9\",\".\",\".\",\"5\"]\n",
    ",[\".\",\".\",\".\",\".\",\"8\",\".\",\".\",\"7\",\"9\"]])"
   ]
  },
  {
   "cell_type": "code",
   "execution_count": null,
   "metadata": {},
   "outputs": [],
   "source": []
  }
 ],
 "metadata": {
  "kernelspec": {
   "display_name": "DL_VENV",
   "language": "python",
   "name": "dl_venv"
  },
  "language_info": {
   "codemirror_mode": {
    "name": "ipython",
    "version": 3
   },
   "file_extension": ".py",
   "mimetype": "text/x-python",
   "name": "python",
   "nbconvert_exporter": "python",
   "pygments_lexer": "ipython3",
   "version": "3.10.6"
  },
  "orig_nbformat": 4
 },
 "nbformat": 4,
 "nbformat_minor": 2
}
