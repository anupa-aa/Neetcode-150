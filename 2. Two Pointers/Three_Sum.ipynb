{
 "cells": [
  {
   "attachments": {},
   "cell_type": "markdown",
   "metadata": {},
   "source": [
    "# Three Sum\n",
    "\n",
    "Given an integer array nums, return all the triplets [nums[i], nums[j], nums[k]] such that i != j, i != k, and j != k, and nums[i] + nums[j] + nums[k] == 0.\n",
    "\n",
    "Notice that the solution set must not contain duplicate triplets.\n",
    "\n",
    " \n",
    "\n",
    "Example 1:\n",
    "\n",
    "Input: nums = [-1,0,1,2,-1,-4]\n",
    "Output: [[-1,-1,2],[-1,0,1]]\n",
    "Explanation: \n",
    "nums[0] + nums[1] + nums[2] = (-1) + 0 + 1 = 0.\n",
    "nums[1] + nums[2] + nums[4] = 0 + 1 + (-1) = 0.\n",
    "nums[0] + nums[3] + nums[4] = (-1) + 2 + (-1) = 0.\n",
    "The distinct triplets are [-1,0,1] and [-1,-1,2].\n",
    "Notice that the order of the output and the order of the triplets does not matter.\n",
    "\n",
    "Example 2:\n",
    "\n",
    "Input: nums = [0,1,1]\n",
    "Output: []\n",
    "Explanation: The only possible triplet does not sum up to 0.\n",
    "\n",
    "Example 3:\n",
    "\n",
    "Input: nums = [0,0,0]\n",
    "Output: [[0,0,0]]\n",
    "Explanation: The only possible triplet sums up to 0.\n"
   ]
  },
  {
   "cell_type": "code",
   "execution_count": 32,
   "metadata": {},
   "outputs": [],
   "source": [
    "def threeSum(arr : list[int]) -> list[list[int]]:\n",
    "    # We have to return all triplets that sum to 0 in the list arr\n",
    "    # Each elements in arr cannot be used more than once per triplet\n",
    "    # We also assume arr is sorted\n",
    "\n",
    "    arr.sort()\n",
    "\n",
    "    triplets = []\n",
    "\n",
    "    for i in range(len(arr)):\n",
    "\n",
    "        if i > 0 and arr[i] == arr[i - 1]:\n",
    "            # Skip duplicate elements for the first element of the triplet\n",
    "            continue\n",
    "\n",
    "        left_p = i + 1\n",
    "        right_p = len(arr) - 1\n",
    "\n",
    "        while left_p < right_p:\n",
    "\n",
    "            print(i, left_p, right_p)\n",
    "\n",
    "            sum = arr[i] + arr[left_p] + arr[right_p]\n",
    "\n",
    "            if sum == 0:\n",
    "                new_triplet = [arr[i], arr[left_p], arr[right_p]]\n",
    "                triplets.append(new_triplet)\n",
    "                print(\"Added\")\n",
    "\n",
    "                # Skip duplicates for the second element of the triplet\n",
    "                while left_p < right_p and arr[left_p] == arr[left_p + 1]:\n",
    "                    left_p += 1\n",
    "\n",
    "                # Skip duplicates for the third element of the triplet\n",
    "                while left_p < right_p and arr[right_p] == arr[right_p - 1]:\n",
    "                    right_p -= 1\n",
    "\n",
    "                left_p += 1\n",
    "                right_p -= 1\n",
    "\n",
    "            elif sum < 0:\n",
    "                left_p += 1\n",
    "\n",
    "            else:\n",
    "                right_p -= 1\n",
    "\n",
    "    return triplets\n",
    "\n",
    "        "
   ]
  },
  {
   "cell_type": "code",
   "execution_count": 33,
   "metadata": {},
   "outputs": [
    {
     "name": "stdout",
     "output_type": "stream",
     "text": [
      "0 1 5\n",
      "0 2 5\n",
      "0 3 5\n",
      "0 4 5\n",
      "1 2 5\n",
      "Added\n",
      "1 3 4\n",
      "Added\n",
      "3 4 5\n"
     ]
    },
    {
     "data": {
      "text/plain": [
       "[[-1, -1, 2], [-1, 0, 1]]"
      ]
     },
     "execution_count": 33,
     "metadata": {},
     "output_type": "execute_result"
    }
   ],
   "source": [
    "threeSum([-1,0,1,2,-1,-4])"
   ]
  },
  {
   "attachments": {},
   "cell_type": "markdown",
   "metadata": {},
   "source": [
    "### Way of using two_sum function inside three_sum problem"
   ]
  },
  {
   "cell_type": "code",
   "execution_count": 35,
   "metadata": {},
   "outputs": [],
   "source": [
    "def threeSum(nums: list[int]) -> list[list[int]]:\n",
    "\n",
    "    def twoSum(target, lo, hi):\n",
    "\n",
    "        while lo < hi:\n",
    "            s = nums[lo] + nums[hi]\n",
    "            if s < target:\n",
    "                lo += 1\n",
    "            elif s > target:\n",
    "                hi -= 1\n",
    "\n",
    "            elif s == target:\n",
    "                res.append([-target, nums[lo], nums[hi]])\n",
    "                lo += 1\n",
    "                hi -= 1\n",
    "                while lo < hi and nums[lo] == nums[lo-1]:\n",
    "                    lo += 1\n",
    "                while lo < hi and nums[hi] == nums[hi+1]:\n",
    "                    hi -= 1\n",
    "\n",
    "    nums.sort()\n",
    "    res = []\n",
    "    for i, num in enumerate(nums):\n",
    "        if num > 0:\n",
    "            return res\n",
    "        if i == 0 or nums[i-1] != nums[i]:\n",
    "            twoSum(-num, i+1, len(nums)-1)\n",
    "\n",
    "    return res\n"
   ]
  },
  {
   "cell_type": "code",
   "execution_count": 36,
   "metadata": {},
   "outputs": [
    {
     "data": {
      "text/plain": [
       "[[-1, -1, 2], [-1, 0, 1]]"
      ]
     },
     "execution_count": 36,
     "metadata": {},
     "output_type": "execute_result"
    }
   ],
   "source": [
    "threeSum([-1,0,1,2,-1,-4])"
   ]
  },
  {
   "cell_type": "code",
   "execution_count": null,
   "metadata": {},
   "outputs": [],
   "source": []
  }
 ],
 "metadata": {
  "kernelspec": {
   "display_name": "DL_VENV",
   "language": "python",
   "name": "dl_venv"
  },
  "language_info": {
   "codemirror_mode": {
    "name": "ipython",
    "version": 3
   },
   "file_extension": ".py",
   "mimetype": "text/x-python",
   "name": "python",
   "nbconvert_exporter": "python",
   "pygments_lexer": "ipython3",
   "version": "3.10.6"
  },
  "orig_nbformat": 4
 },
 "nbformat": 4,
 "nbformat_minor": 2
}
