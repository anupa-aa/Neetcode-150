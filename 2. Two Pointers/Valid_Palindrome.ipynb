{
 "cells": [
  {
   "attachments": {},
   "cell_type": "markdown",
   "metadata": {},
   "source": [
    "# Valid Palindrome\n",
    "\n",
    "A phrase is a palindrome if, after converting all uppercase letters into lowercase letters and removing all non-alphanumeric characters, it reads the same forward and backward. Alphanumeric characters include letters and numbers.\n",
    "\n",
    "Given a string s, return true if it is a palindrome, or false otherwise.\n",
    "\n",
    " \n",
    "\n",
    "Example 1:\n",
    "\n",
    "Input: s = \"A man, a plan, a canal: Panama\"\n",
    "Output: true\n",
    "Explanation: \"amanaplanacanalpanama\" is a palindrome.\n",
    "\n",
    "Example 2:\n",
    "\n",
    "Input: s = \"race a car\"\n",
    "Output: false\n",
    "Explanation: \"raceacar\" is not a palindrome.\n",
    "\n",
    "Example 3:\n",
    "\n",
    "Input: s = \" \"\n",
    "Output: true\n",
    "Explanation: s is an empty string \"\" after removing non-alphanumeric characters.\n",
    "Since an empty string reads the same forward and backward, it is a palindrome.\n"
   ]
  },
  {
   "cell_type": "code",
   "execution_count": 20,
   "metadata": {},
   "outputs": [],
   "source": [
    "def isPalindrome(s: str) -> bool:\n",
    "    pointer_one = 0\n",
    "    pointer_two = len(s) - 1\n",
    "\n",
    "    while pointer_one < pointer_two:\n",
    "        # \"character\".isalnum() checks if alphanumeric\n",
    "        if not s[pointer_one].isalnum():\n",
    "            pointer_one += 1\n",
    "            continue\n",
    "\n",
    "        if not s[pointer_two].isalnum():\n",
    "            pointer_two -= 1\n",
    "            continue\n",
    "\n",
    "        if s[pointer_one].lower() != s[pointer_two].lower():\n",
    "            # string method to convert capitals to lower case. It handles lower to lower case as well by not doing anything\n",
    "            return False\n",
    "\n",
    "        pointer_one += 1\n",
    "        pointer_two -= 1\n",
    "\n",
    "    return True\n"
   ]
  },
  {
   "cell_type": "code",
   "execution_count": 22,
   "metadata": {},
   "outputs": [
    {
     "name": "stdout",
     "output_type": "stream",
     "text": [
      "True\n"
     ]
    }
   ],
   "source": [
    "print(isPalindrome(\"A man, a plan, a canal: Panama\"))\n"
   ]
  },
  {
   "attachments": {},
   "cell_type": "markdown",
   "metadata": {},
   "source": [
    "### A cool method using regular expressions"
   ]
  },
  {
   "cell_type": "code",
   "execution_count": 21,
   "metadata": {},
   "outputs": [],
   "source": [
    "import re\n",
    "\n",
    "class Solution:\n",
    "    def isPalindrome(self, s: str) -> bool:\n",
    "        regex = r'[^0-9a-zA-Z]+'\n",
    "        text_without_characters = re.sub(regex, '', s).lower()\n",
    "        if text_without_characters == text_without_characters[::-1]:\n",
    "            return True\n",
    "        else:\n",
    "            return False\n"
   ]
  }
 ],
 "metadata": {
  "kernelspec": {
   "display_name": "DL_VENV",
   "language": "python",
   "name": "dl_venv"
  },
  "language_info": {
   "codemirror_mode": {
    "name": "ipython",
    "version": 3
   },
   "file_extension": ".py",
   "mimetype": "text/x-python",
   "name": "python",
   "nbconvert_exporter": "python",
   "pygments_lexer": "ipython3",
   "version": "3.10.6"
  },
  "orig_nbformat": 4
 },
 "nbformat": 4,
 "nbformat_minor": 2
}
