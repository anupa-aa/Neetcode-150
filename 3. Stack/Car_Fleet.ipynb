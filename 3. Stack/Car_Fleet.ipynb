{
 "cells": [
  {
   "cell_type": "markdown",
   "metadata": {},
   "source": [
    "# Car Fleet\n",
    "\n",
    "There are n cars going to the same destination along a one-lane road. The destination is target miles away.\n",
    "\n",
    "You are given two integer array position and speed, both of length n, where position[i] is the position of the ith car and speed[i] is the speed of the ith car (in miles per hour).\n",
    "\n",
    "A car can never pass another car ahead of it, but it can catch up to it and drive bumper to bumper at the same speed. The faster car will slow down to match the slower car's speed. The distance between these two cars is ignored (i.e., they are assumed to have the same position).\n",
    "\n",
    "A car fleet is some non-empty set of cars driving at the same position and same speed. Note that a single car is also a car fleet.\n",
    "\n",
    "If a car catches up to a car fleet right at the destination point, it will still be considered as one car fleet.\n",
    "\n",
    "Return the number of car fleets that will arrive at the destination.\n",
    "\n",
    " \n",
    "\n",
    "Example 1:\n",
    "\n",
    "Input: target = 12, position = [10,8,0,5,3], speed = [2,4,1,1,3]\n",
    "\n",
    "Output: 3\n",
    "\n",
    "Explanation:\n",
    "\n",
    "- The cars starting at 10 (speed 2) and 8 (speed 4) become a fleet, meeting each other at 12.\n",
    "- The car starting at 0 does not catch up to any other car, so it is a fleet by itself.\n",
    "- The cars starting at 5 (speed 1) and 3 (speed 3) become a fleet, meeting each other at 6. - The fleet moves at speed 1 until it reaches target.\n",
    "- Note that no other cars meet these fleets before the destination, so the answer is 3.\n",
    "\n",
    "\n",
    "Example 2:\n",
    "\n",
    "Input: target = 10, position = [3], speed = [3]\n",
    "\n",
    "Output: 1\n",
    "\n",
    "Explanation: There is only one car, hence there is only one fleet.\n",
    "\n",
    "\n",
    "Example 3:\n",
    "\n",
    "Input: target = 100, position = [0,2,4], speed = [4,2,1]\n",
    "\n",
    "Output: 1\n",
    "\n",
    "Explanation:\n",
    "- The cars starting at 0 (speed 4) and 2 (speed 2) become a fleet, meeting each other at 4. - The fleet moves at speed 2.\n",
    "- Then, the fleet (speed 2) and the car starting at 4 (speed 1) become one fleet, meeting each other at 6. The fleet moves at speed 1 until it reaches target.\n"
   ]
  },
  {
   "cell_type": "code",
   "execution_count": 38,
   "metadata": {},
   "outputs": [],
   "source": [
    "def carFleet(target : int, position : list[int], speed : list[int]) -> int:\n",
    "    cars = tuple(sorted(zip(position, speed), reverse=True))\n",
    "    stack = []\n",
    "\n",
    "    for car in cars:\n",
    "\n",
    "        print(stack)\n",
    "\n",
    "        duration = (target-car[0]) / car[1]\n",
    "\n",
    "        if not stack:\n",
    "            stack.append((car, duration))\n",
    "\n",
    "        elif stack[-1][1] >= duration:\n",
    "            pass\n",
    "            # Here, this car will collide with the car in front of it and\n",
    "            # join the car fleet\n",
    "        else:\n",
    "            stack.append((car, duration))\n",
    "            # Here, this car will never collide with the car in front, and\n",
    "            # so it will be the first car in a new car fleet\n",
    "\n",
    "    # At the end the stack will contain cars that are the first cars\n",
    "    # in their respective car fleets\n",
    "    \n",
    "    return len(stack)"
   ]
  },
  {
   "cell_type": "code",
   "execution_count": 39,
   "metadata": {},
   "outputs": [
    {
     "name": "stdout",
     "output_type": "stream",
     "text": [
      "[]\n",
      "[((10, 2), 1.0)]\n",
      "[((10, 2), 1.0)]\n",
      "[((10, 2), 1.0), ((5, 1), 7.0)]\n",
      "[((10, 2), 1.0), ((5, 1), 7.0)]\n"
     ]
    },
    {
     "data": {
      "text/plain": [
       "3"
      ]
     },
     "execution_count": 39,
     "metadata": {},
     "output_type": "execute_result"
    }
   ],
   "source": [
    "carFleet(12, [10,8,0,5,3], [2,4,1,1,3])"
   ]
  },
  {
   "cell_type": "code",
   "execution_count": null,
   "metadata": {},
   "outputs": [],
   "source": []
  }
 ],
 "metadata": {
  "kernelspec": {
   "display_name": "DL_VENV",
   "language": "python",
   "name": "dl_venv"
  },
  "language_info": {
   "codemirror_mode": {
    "name": "ipython",
    "version": 3
   },
   "file_extension": ".py",
   "mimetype": "text/x-python",
   "name": "python",
   "nbconvert_exporter": "python",
   "pygments_lexer": "ipython3",
   "version": "3.10.6"
  },
  "orig_nbformat": 4
 },
 "nbformat": 4,
 "nbformat_minor": 2
}
