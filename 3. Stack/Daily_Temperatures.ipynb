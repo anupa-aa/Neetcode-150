{
 "cells": [
  {
   "cell_type": "markdown",
   "metadata": {},
   "source": [
    "# Daily Temperatures\n",
    "\n",
    "Given an array of integers temperatures represents the daily temperatures, return an array answer such that answer[i] is the number of days you have to wait after the ith day to get a warmer temperature. If there is no future day for which this is possible, keep answer[i] == 0 instead.\n",
    "\n",
    " \n",
    "\n",
    "Example 1:\n",
    "\n",
    "Input: temperatures = [73,74,75,71,69,72,76,73]\n",
    "\n",
    "Output: [1,1,4,2,1,1,0,0]\n",
    "\n",
    "Example 2:\n",
    "\n",
    "Input: temperatures = [30,40,50,60]\n",
    "\n",
    "Output: [1,1,1,0]\n",
    "\n",
    "Example 3:\n",
    "\n",
    "Input: temperatures = [30,60,90]\n",
    "\n",
    "Output: [1,1,0]\n",
    "\n",
    " "
   ]
  },
  {
   "cell_type": "code",
   "execution_count": 25,
   "metadata": {},
   "outputs": [],
   "source": [
    "def daily_temperatures(temperatures: list[int]) -> list[int]:\n",
    "    stack = []\n",
    "    answer = [0] * len(temperatures)\n",
    "\n",
    "    for i in range(len(temperatures)):\n",
    "        if not stack:\n",
    "            stack.append(i)\n",
    "        elif temperatures[stack[-1]] >= temperatures[i]:\n",
    "            stack.append(i)\n",
    "        else:\n",
    "            while stack and temperatures[stack[-1]] < temperatures[i]:\n",
    "                prev_index = stack.pop()\n",
    "                answer[prev_index] = i - prev_index\n",
    "            stack.append(i)\n",
    "\n",
    "    return answer\n"
   ]
  },
  {
   "cell_type": "code",
   "execution_count": 26,
   "metadata": {},
   "outputs": [
    {
     "data": {
      "text/plain": [
       "[1, 1, 4, 2, 1, 1, 0, 0]"
      ]
     },
     "execution_count": 26,
     "metadata": {},
     "output_type": "execute_result"
    }
   ],
   "source": [
    "daily_temperatures([73,74,75,71,69,72,76,73])"
   ]
  },
  {
   "cell_type": "markdown",
   "metadata": {},
   "source": [
    "## More efficient solution using enumerate"
   ]
  },
  {
   "cell_type": "code",
   "execution_count": 23,
   "metadata": {},
   "outputs": [],
   "source": [
    "def dailyTemperatures(temperatures: list[int]) -> list[int]:\n",
    "    N = len(temperatures)\n",
    "    ans = [0] * N\n",
    "    max_stack = []\n",
    "    for i, x in enumerate(temperatures):\n",
    "        while max_stack and x > temperatures[max_stack[-1]]:\n",
    "            pop = max_stack.pop()\n",
    "            ans[pop] = i - pop\n",
    "        max_stack.append(i)\n",
    "    return ans\n"
   ]
  },
  {
   "cell_type": "code",
   "execution_count": 24,
   "metadata": {},
   "outputs": [
    {
     "data": {
      "text/plain": [
       "[1, 1, 4, 2, 1, 1, 0, 0]"
      ]
     },
     "execution_count": 24,
     "metadata": {},
     "output_type": "execute_result"
    }
   ],
   "source": [
    "dailyTemperatures([73,74,75,71,69,72,76,73])"
   ]
  }
 ],
 "metadata": {
  "kernelspec": {
   "display_name": "DL_VENV",
   "language": "python",
   "name": "dl_venv"
  },
  "language_info": {
   "codemirror_mode": {
    "name": "ipython",
    "version": 3
   },
   "file_extension": ".py",
   "mimetype": "text/x-python",
   "name": "python",
   "nbconvert_exporter": "python",
   "pygments_lexer": "ipython3",
   "version": "3.10.6"
  },
  "orig_nbformat": 4
 },
 "nbformat": 4,
 "nbformat_minor": 2
}
