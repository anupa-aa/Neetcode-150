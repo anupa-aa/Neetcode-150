{
 "cells": [
  {
   "attachments": {},
   "cell_type": "markdown",
   "metadata": {},
   "source": [
    "# Evaluate Reverse Polish Notation\n",
    "\n",
    "You are given an array of strings tokens that represents an arithmetic expression in a Reverse Polish Notation.\n",
    "\n",
    "Evaluate the expression. Return an integer that represents the value of the expression.\n",
    "\n",
    "Note that:\n",
    "\n",
    "    The valid operators are '+', '-', '*', and '/'.\n",
    "    Each operand may be an integer or another expression.\n",
    "    The division between two integers always truncates toward zero.\n",
    "    There will not be any division by zero.\n",
    "    The input represents a valid arithmetic expression in a reverse polish notation.\n",
    "    The answer and all the intermediate calculations can be represented in a 32-bit integer.\n",
    "\n",
    " \n",
    "\n",
    "Example 1:\n",
    "\n",
    "Input: tokens = [\"2\",\"1\",\"+\",\"3\",\"*\"]\n",
    "\n",
    "Output: 9\n",
    "\n",
    "Explanation: ((2 + 1) * 3) = 9\n",
    "\n",
    "Example 2:\n",
    "\n",
    "Input: tokens = [\"4\",\"13\",\"5\",\"/\",\"+\"]\n",
    "\n",
    "Output: 6\n",
    "\n",
    "Explanation: (4 + (13 / 5)) = 6\n",
    "\n",
    "Example 3:\n",
    "\n",
    "Input: tokens = [\"10\",\"6\",\"9\",\"3\",\"+\",\"-11\",\"*\",\"/\",\"*\",\"17\",\"+\",\"5\",\"+\"]\n",
    "\n",
    "Output: 22\n",
    "\n",
    "Explanation: ((10 * (6 / ((9 + 3) * -11))) + 17) + 5\n",
    "= ((10 * (6 / (12 * -11))) + 17) + 5\n",
    "= ((10 * (6 / -132)) + 17) + 5\n",
    "= ((10 * 0) + 17) + 5\n",
    "= (0 + 17) + 5\n",
    "= 17 + 5\n",
    "= 22\n"
   ]
  },
  {
   "cell_type": "code",
   "execution_count": 3,
   "metadata": {},
   "outputs": [],
   "source": [
    "def evalRPN(tokens: list[str]) -> int:\n",
    "\n",
    "    stack = []\n",
    "\n",
    "    operators = {\"+\", \"*\", \"/\", \"-\"}\n",
    "\n",
    "    for val in tokens:\n",
    "        if val in operators:\n",
    "            num_two = stack.pop()\n",
    "            num_one = stack.pop()\n",
    "\n",
    "            if val == \"+\":\n",
    "                result = num_one + num_two\n",
    "\n",
    "            elif val == \"*\":\n",
    "                result = num_one * num_two\n",
    "\n",
    "            elif val == \"/\":\n",
    "                result = int(num_one / num_two)\n",
    "\n",
    "            else:\n",
    "                result = num_one - num_two\n",
    "\n",
    "            stack.append(result)\n",
    "\n",
    "        else:\n",
    "            stack.append(int(val))\n",
    "\n",
    "    return stack[0]\n"
   ]
  },
  {
   "cell_type": "code",
   "execution_count": 4,
   "metadata": {},
   "outputs": [
    {
     "data": {
      "text/plain": [
       "22"
      ]
     },
     "execution_count": 4,
     "metadata": {},
     "output_type": "execute_result"
    }
   ],
   "source": [
    "evalRPN([\"10\",\"6\",\"9\",\"3\",\"+\",\"-11\",\"*\",\"/\",\"*\",\"17\",\"+\",\"5\",\"+\"])"
   ]
  }
 ],
 "metadata": {
  "kernelspec": {
   "display_name": "DL_VENV",
   "language": "python",
   "name": "dl_venv"
  },
  "language_info": {
   "codemirror_mode": {
    "name": "ipython",
    "version": 3
   },
   "file_extension": ".py",
   "mimetype": "text/x-python",
   "name": "python",
   "nbconvert_exporter": "python",
   "pygments_lexer": "ipython3",
   "version": "3.10.6"
  },
  "orig_nbformat": 4
 },
 "nbformat": 4,
 "nbformat_minor": 2
}
