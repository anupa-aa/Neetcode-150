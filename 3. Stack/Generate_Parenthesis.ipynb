{
 "cells": [
  {
   "cell_type": "markdown",
   "metadata": {},
   "source": [
    "# Generate Parentheses"
   ]
  },
  {
   "cell_type": "code",
   "execution_count": 1,
   "metadata": {},
   "outputs": [],
   "source": [
    "def generateParenthesis(n):\n",
    "\n",
    "    res = []\n",
    "    stack = []\n",
    "\n",
    "    def backTrack(openN, closedN):\n",
    "\n",
    "            # Our base case. If closed count == open count == number of pairs of parenthesis,\n",
    "            # we have reached a valid solution and we copy it from our stack to our result array\n",
    "            if openN == closedN == n:\n",
    "                res.append(\"\".join(stack))\n",
    "                return\n",
    "\n",
    "            # If we still have open parenthesis to use\n",
    "            if openN < n:\n",
    "                stack.append(\"(\")\n",
    "                backTrack(openN+1, closedN)\n",
    "                stack.pop()\n",
    "\n",
    "            # If we still have closed parenthesis to use\n",
    "            if closedN < openN:\n",
    "                stack.append(\")\")\n",
    "                backTrack(openN, closedN+1)\n",
    "                stack.pop()\n",
    "\n",
    "        # We make our first recursive call with out initial values for number\n",
    "        # of open and closed brackets we use, which is 0\n",
    "    backTrack(0, 0)\n",
    "\n",
    "    return res\n"
   ]
  },
  {
   "cell_type": "code",
   "execution_count": 2,
   "metadata": {},
   "outputs": [
    {
     "data": {
      "text/plain": [
       "['((()))', '(()())', '(())()', '()(())', '()()()']"
      ]
     },
     "execution_count": 2,
     "metadata": {},
     "output_type": "execute_result"
    }
   ],
   "source": [
    "generateParenthesis(3)"
   ]
  },
  {
   "cell_type": "code",
   "execution_count": null,
   "metadata": {},
   "outputs": [],
   "source": []
  }
 ],
 "metadata": {
  "kernelspec": {
   "display_name": "DL_VENV",
   "language": "python",
   "name": "python3"
  },
  "language_info": {
   "codemirror_mode": {
    "name": "ipython",
    "version": 3
   },
   "file_extension": ".py",
   "mimetype": "text/x-python",
   "name": "python",
   "nbconvert_exporter": "python",
   "pygments_lexer": "ipython3",
   "version": "3.10.6"
  },
  "orig_nbformat": 4
 },
 "nbformat": 4,
 "nbformat_minor": 2
}
