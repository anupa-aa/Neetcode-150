{
 "cells": [
  {
   "cell_type": "markdown",
   "metadata": {},
   "source": [
    "# Generate Parentheses"
   ]
  },
  {
   "cell_type": "code",
   "execution_count": 15,
   "metadata": {},
   "outputs": [],
   "source": [
    "def generateParenthesis(n):\n",
    "\n",
    "    res = []\n",
    "    stack = []\n",
    "\n",
    "    def backTrack(openN , closedN):\n",
    "\n",
    "        # Our base case. If closed count == open count == number of pairs of parenthesis,\n",
    "        # we have reached a valid solution and we copy it from our stack to our result array\n",
    "        if openN == closedN ==n:\n",
    "            res.append(\"\".join(stack))\n",
    "            print(\"Added to answer array\")\n",
    "            return \n",
    "\n",
    "\n",
    "        # If we still have open parenthesis to use\n",
    "        if openN < n:\n",
    "            stack.append(\"(\")\n",
    "            print(\n",
    "                f\"stack : {''.join(map(str, stack))}           backTrack({openN + 1}, {closedN})\")\n",
    "            backTrack(openN+1 , closedN )\n",
    "            stack.pop()\n",
    "            print(f\"Popped! stack : {''.join(map(str, stack))}\")\n",
    "\n",
    "\n",
    "        # If we still have closed parenthesis to use\n",
    "        if closedN < openN:\n",
    "            stack.append(\")\")\n",
    "            print(\n",
    "                f\"stack : {''.join(map(str, stack))}           backTrack({openN}, {closedN+1})\")\n",
    "            backTrack(openN , closedN+1)\n",
    "            stack.pop()\n",
    "            print(f\"Popped! stack : {''.join(map(str, stack))}\")\n",
    "\n",
    "    # We make our first recursive call with out initial values for number\n",
    "    # of open and closed brackets we use, which is 0\n",
    "    backTrack(0, 0)\n",
    "\n",
    "    return res\n"
   ]
  },
  {
   "cell_type": "code",
   "execution_count": 17,
   "metadata": {},
   "outputs": [
    {
     "name": "stdout",
     "output_type": "stream",
     "text": [
      "stack : (           backTrack(1, 0)\n",
      "stack : ((           backTrack(2, 0)\n",
      "stack : (((           backTrack(3, 0)\n",
      "stack : ((()           backTrack(3, 1)\n",
      "stack : ((())           backTrack(3, 2)\n",
      "stack : ((()))           backTrack(3, 3)\n",
      "Added to answer array\n",
      "Popped! stack : ((())\n",
      "Popped! stack : ((()\n",
      "Popped! stack : (((\n",
      "Popped! stack : ((\n",
      "stack : (()           backTrack(2, 1)\n",
      "stack : (()(           backTrack(3, 1)\n",
      "stack : (()()           backTrack(3, 2)\n",
      "stack : (()())           backTrack(3, 3)\n",
      "Added to answer array\n",
      "Popped! stack : (()()\n",
      "Popped! stack : (()(\n",
      "Popped! stack : (()\n",
      "stack : (())           backTrack(2, 2)\n",
      "stack : (())(           backTrack(3, 2)\n",
      "stack : (())()           backTrack(3, 3)\n",
      "Added to answer array\n",
      "Popped! stack : (())(\n",
      "Popped! stack : (())\n",
      "Popped! stack : (()\n",
      "Popped! stack : ((\n",
      "Popped! stack : (\n",
      "stack : ()           backTrack(1, 1)\n",
      "stack : ()(           backTrack(2, 1)\n",
      "stack : ()((           backTrack(3, 1)\n",
      "stack : ()(()           backTrack(3, 2)\n",
      "stack : ()(())           backTrack(3, 3)\n",
      "Added to answer array\n",
      "Popped! stack : ()(()\n",
      "Popped! stack : ()((\n",
      "Popped! stack : ()(\n",
      "stack : ()()           backTrack(2, 2)\n",
      "stack : ()()(           backTrack(3, 2)\n",
      "stack : ()()()           backTrack(3, 3)\n",
      "Added to answer array\n",
      "Popped! stack : ()()(\n",
      "Popped! stack : ()()\n",
      "Popped! stack : ()(\n",
      "Popped! stack : ()\n",
      "Popped! stack : (\n",
      "Popped! stack : \n"
     ]
    },
    {
     "data": {
      "text/plain": [
       "['((()))', '(()())', '(())()', '()(())', '()()()']"
      ]
     },
     "execution_count": 17,
     "metadata": {},
     "output_type": "execute_result"
    }
   ],
   "source": [
    "generateParenthesis(3)"
   ]
  },
  {
   "cell_type": "code",
   "execution_count": null,
   "metadata": {},
   "outputs": [],
   "source": []
  }
 ],
 "metadata": {
  "kernelspec": {
   "display_name": "DL_VENV",
   "language": "python",
   "name": "python3"
  },
  "language_info": {
   "codemirror_mode": {
    "name": "ipython",
    "version": 3
   },
   "file_extension": ".py",
   "mimetype": "text/x-python",
   "name": "python",
   "nbconvert_exporter": "python",
   "pygments_lexer": "ipython3",
   "version": "3.10.6"
  },
  "orig_nbformat": 4
 },
 "nbformat": 4,
 "nbformat_minor": 2
}
