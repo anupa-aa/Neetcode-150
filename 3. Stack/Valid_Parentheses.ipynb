{
 "cells": [
  {
   "attachments": {},
   "cell_type": "markdown",
   "metadata": {},
   "source": [
    "# Valid Parentheses\n",
    "\n",
    "Given a string s containing just the characters '(', ')', '{', '}', '[' and ']', determine if the input string is valid.\n",
    "\n",
    "An input string is valid if:\n",
    "\n",
    "    Open brackets must be closed by the same type of brackets.\n",
    "    Open brackets must be closed in the correct order.\n",
    "    Every close bracket has a corresponding open bracket of the same type.\n",
    "\n",
    " \n",
    "\n",
    "Example 1:\n",
    "\n",
    "\n",
    "Input: s = \"()\"\n",
    "Output: true\n",
    "\n",
    "Example 2:\n",
    "\n",
    "\n",
    "Input: s = \"()[]{}\"\n",
    "Output: true\n",
    "\n",
    "Example 3:\n",
    "\n",
    "\n",
    "Input: s = \"(]\"\n",
    "Output: false\n"
   ]
  },
  {
   "cell_type": "code",
   "execution_count": 3,
   "metadata": {},
   "outputs": [],
   "source": [
    "def isValid(s: str) -> bool:\n",
    "    stack = []\n",
    "    opening = {'(': ')', '{': '}', '[': ']'}\n",
    "\n",
    "    keys = set(opening.keys())\n",
    "    values = set(opening.values())\n",
    "\n",
    "    for i in s:\n",
    "        if i in keys:\n",
    "            stack.append(i)\n",
    "\n",
    "        elif i in values:\n",
    "            if len(stack) == 0:\n",
    "                # If the stack is empty and our next element is closing, its going to be unbalanced\n",
    "                return False\n",
    "            if opening[stack.pop()] != i:\n",
    "                # If the last element in the stack matches our closing element, we pop that last element\n",
    "                # However if it doesn't match, the expression is going to be unbalanced\n",
    "                return False\n",
    "            \n",
    "    # After matching parentheses dissolve, cases may arise where\n",
    "    # stack has only one unbalanced opening eg stack = [ { ]\n",
    "    return len(stack) == 0\n"
   ]
  },
  {
   "cell_type": "code",
   "execution_count": 4,
   "metadata": {},
   "outputs": [
    {
     "data": {
      "text/plain": [
       "False"
      ]
     },
     "execution_count": 4,
     "metadata": {},
     "output_type": "execute_result"
    }
   ],
   "source": [
    "isValid(\"([)]\")"
   ]
  }
 ],
 "metadata": {
  "kernelspec": {
   "display_name": "DL_VENV",
   "language": "python",
   "name": "dl_venv"
  },
  "language_info": {
   "codemirror_mode": {
    "name": "ipython",
    "version": 3
   },
   "file_extension": ".py",
   "mimetype": "text/x-python",
   "name": "python",
   "nbconvert_exporter": "python",
   "pygments_lexer": "ipython3",
   "version": "3.10.6"
  },
  "orig_nbformat": 4
 },
 "nbformat": 4,
 "nbformat_minor": 2
}
